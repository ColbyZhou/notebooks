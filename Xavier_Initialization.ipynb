{
 "cells": [
  {
   "cell_type": "markdown",
   "metadata": {},
   "source": [
    "# Xavier initialization的理解 #"
   ]
  },
  {
   "cell_type": "markdown",
   "metadata": {},
   "source": [
    "### 1、方差公式 ###"
   ]
  },
  {
   "cell_type": "markdown",
   "metadata": {},
   "source": [
    "假设X、Y是独立的随机变量，则：\n",
    "\n",
    "$E(XY) = EXEY $\n",
    "\n",
    "有,\n",
    "$D(XY) = (EX)^2DY + (EY)^2DX + DXDY  $\n",
    "\n",
    "推导如下：\n",
    "$$\n",
    "\\begin{aligned}\n",
    "D(XY) &= E(XY)^2 - (E(XY))^2  \\\\ \n",
    "&= E(X^2Y^2) - (EXEY)^2 \\\\\n",
    "&= EX^2EY^2 - (EX)^2(EY)^2 \\\\\n",
    "\\end{aligned}\n",
    "$$\n",
    "同时，\n",
    "$$\n",
    "\\begin{aligned}\n",
    "(EX)^2DY + (EY)^2DX + DXDY &= (EX)^2[EY^2 - (EY)^2] + (EY)^2[EX^2 - (EX)^2] + [EX^2 - (EX)^2] * [E(Y^2) - (EY)^2] \\\\\n",
    "&= EX^2EY^2 - (EX)^2(EY)^2 \\\\\n",
    "&= D(XY)\n",
    "\\end{aligned}\n",
    "$$\n",
    "因此，当$EX = EY = 0$时，$D(XY) = DXDY$"
   ]
  },
  {
   "cell_type": "markdown",
   "metadata": {},
   "source": [
    "### 2、问题 ###"
   ]
  },
  {
   "cell_type": "markdown",
   "metadata": {},
   "source": [
    "假设一个神经元，输入为n维的向量X，权重为W，输出为Y：\n",
    "$$Y = W_1X_1 + W_2X_2 + ... + W_nX_n$$\n",
    "\n",
    "$W_i$与$X_i$相互独立，当$E(W_i) = 0, E(X_i) = 0$时，\n",
    "$$D(W_iX_i) = D(W_i)D(X_i)$$\n",
    "\n",
    "同时假设$W_i$和$X_i$都是独立同分布的，则\n",
    "\n",
    "$$D(Y) = nD(W_i)D(X_i)$$\n",
    "\n",
    "即： $$\\frac{D(Y)}{D(X_i)} = nD(W_i)$$\n",
    "\n",
    "我们希望输入和输出的方差保持不变，那么：\n",
    "\n",
    "$$nD(W_i) = 1$$\n",
    "即：\n",
    "$$D(W_i) = \\frac{1}{n}$$\n",
    "\n",
    "其中$n$是输入神经元个数，\n",
    "对于均匀分布$ U[a,b]$，其方差是：\n",
    "$$\\frac{(b-a)^2}{12}$$\n",
    "\n",
    "传统的初始化方法是用均匀分布$U[-\\frac{1}{\\sqrt{n}},\\frac{1}{\\sqrt{n}}]$初始化$W_i$\n",
    "这样$W_i$的方差是$\\frac{1}{3n}$\n",
    "\n",
    "此时：\n",
    "$$nD(W_i) = \\frac{1}{3}$$\n",
    "使用$U[-\\frac{\\sqrt{3}}{\\sqrt{n}},\\frac{\\sqrt{3}}{\\sqrt{n}}]$初始化$W_i$能使得$D(W_i) = \\frac{1}{n}$\n",
    "\n",
    "Bengio对此进行了改进，假设输入输入神经元个数为$n_{in}$，输出神经元个数为$n_{out}$，\n",
    "**normalized initialization**为：\n",
    "$$W \\sim U\\left[-\\frac{\\sqrt{6}}{\\sqrt{n_{in}+n_{out}}},\\frac{\\sqrt{6}}{\\sqrt{n_{in}+n_{out}}}\\right]$$\n",
    "\n",
    "此时，\n",
    "$$D(W_i) = \\frac{2}{n_{in}+n_{out}}$$\n",
    "此公式，考虑了反向传播时输入输出的方差，即要求：\n",
    "$$D(W_i) = \\frac{1}{n_{out}}$$\n",
    "折中之后即得到上面的公式\n"
   ]
  },
  {
   "cell_type": "markdown",
   "metadata": {},
   "source": [
    "### 多层网络方差\n",
    "假设神经网络的第$j$层输出为$Z^{(j)}$\n",
    "则：\n",
    "$$\n",
    "\\begin{aligned}\n",
    "D\\left[Z^{(j)}\\right] &= n^{(j-1)}D[W^{(j-1)}]D[Z^{(j-1)}] \\\\\n",
    "&= n^{(j-1)}D[W^{(j-1)}] * n^{(j-2)}D[W^{(j-2)}]D[Z^{(j-2)}] \\\\\n",
    "&= ... \\\\\n",
    "&= D[X^{(0)}]\\prod_{j'=0}^{j-1}n^{(j')}D[W^{(j')}]\n",
    "\\end{aligned}\n",
    "$$\n",
    "其中$D[X^{(0)}]$及输入数据的方差$DX$\n",
    "\n",
    "反向传播的方差同理：\n",
    "假设神经网络最后一共有$d$层，从最后一层忘前传播梯度时有：\n",
    "\n",
    "$$\n",
    "D\\left[\\frac{\\partial{Loss}}{\\partial{s^{(j)}}}\\right] = D\\left[\\frac{\\partial{Loss}}{\\partial{s^{(d)}}}\\right] \\prod_{j'=j}^{d}n^{(j'+1)}D[W^{(j')}]\n",
    "$$\n",
    "其中，\n",
    "$$s^{(j)} = Z^{(j)}W^{(j)} + b^{(j)}$$\n",
    ",\n",
    "$$\n",
    "\\begin{aligned}\n",
    "\\frac{\\partial{Loss}}{\\partial{W^{(j)}}} &= \\frac{\\partial{Loss}}{\\partial{s^{(j)}}} * \\frac{\\partial{s^{(j)}}}{\\partial{W^{(j)}}} \\\\\n",
    "&= Z^{(j)}\\frac{\\partial{Loss}}{\\partial{s^{(j)}}}\n",
    "\\end{aligned}\n",
    "$$\n",
    "因此，\n",
    "$$\n",
    "\\begin{aligned}\n",
    "D\\left[\\frac{\\partial{Loss}}{\\partial{W^{(j)}}}\\right] &= D\\left[Z^{(j)}\\right]D\\left[\\frac{\\partial{Loss}}{\\partial{s^{(j)}}}\\right] \\\\\n",
    "&= D[X^{(0)}]*D\\left[\\frac{\\partial{Loss}}{\\partial{s^{(d)}}}\\right] * \\prod_{j'=0}^{j-1}n^{(j')}D[W^{(j')}] \\prod_{j'=j}^{d}n^{(j'+1)}D[W^{(j')}]\n",
    "\\end{aligned}\n",
    "$$\n",
    "\n",
    "为了保证前向和后向传播每层方差一致，需满足：\n",
    "$$n^{(j)}D[W^{(j)}] = 1$$\n",
    "$$n^{(j+1)}D[W^{(j)}] = 1$$\n",
    "权衡后的结果是：\n",
    "\n",
    "$$D\\left[W^{(j)}\\right] = \\frac{2}{n^{(j)} + n^{(j+1)}}$$"
   ]
  },
  {
   "cell_type": "markdown",
   "metadata": {},
   "source": [
    "### Reference ###\n",
    "\n",
    "Understanding the difficulty of training deep feedforward neural networks"
   ]
  }
 ],
 "metadata": {
  "kernelspec": {
   "display_name": "Python [default]",
   "language": "python",
   "name": "python3"
  },
  "language_info": {
   "codemirror_mode": {
    "name": "ipython",
    "version": 3
   },
   "file_extension": ".py",
   "mimetype": "text/x-python",
   "name": "python",
   "nbconvert_exporter": "python",
   "pygments_lexer": "ipython3",
   "version": "3.5.4"
  }
 },
 "nbformat": 4,
 "nbformat_minor": 2
}
