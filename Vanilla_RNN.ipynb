{
 "cells": [
  {
   "cell_type": "markdown",
   "metadata": {},
   "source": [
    "# Vanilla RNN"
   ]
  },
  {
   "cell_type": "code",
   "execution_count": 121,
   "metadata": {},
   "outputs": [],
   "source": [
    "import numpy as np"
   ]
  },
  {
   "cell_type": "markdown",
   "metadata": {},
   "source": [
    "hyperparameters"
   ]
  },
  {
   "cell_type": "code",
   "execution_count": 122,
   "metadata": {},
   "outputs": [],
   "source": [
    "hidden_size = 3\n",
    "vocab_size = 4\n",
    "inputs = [2]\n",
    "targets = [3]"
   ]
  },
  {
   "cell_type": "markdown",
   "metadata": {},
   "source": [
    "model parameters"
   ]
  },
  {
   "cell_type": "code",
   "execution_count": 123,
   "metadata": {},
   "outputs": [],
   "source": [
    "Wxh = np.random.randn(hidden_size, vocab_size)*0.01 # input to hidden\n",
    "Whh = np.random.randn(hidden_size, hidden_size)*0.01 # hidden to hidden\n",
    "Why = np.random.randn(vocab_size, hidden_size)*0.01 # hidden to output\n",
    "bh = np.zeros((hidden_size, 1)) # hidden bias\n",
    "by = np.zeros((vocab_size, 1)) # output bias"
   ]
  },
  {
   "cell_type": "markdown",
   "metadata": {},
   "source": [
    "$h(t)=tanh(WX + Vh(t-1) + b_h)$\n",
    "\n",
    "$f(t) = Uh(t) + b_y$\n",
    "\n",
    "$p(t) = softmax(f(t))$\n",
    "\n",
    "代码中,\n",
    "\n",
    "Wxh ==> $W$\n",
    "\n",
    "Whh ==> $V$\n",
    "\n",
    "Why ==> $U$"
   ]
  },
  {
   "cell_type": "code",
   "execution_count": 124,
   "metadata": {},
   "outputs": [
    {
     "data": {
      "text/plain": [
       "array([[ -1.36458834e-03,   1.10118612e-02,  -4.54390582e-03,\n",
       "          4.92045527e-03],\n",
       "       [  1.13343035e-02,  -6.62299760e-03,  -7.77568912e-03,\n",
       "          1.52714559e-02],\n",
       "       [ -1.12811396e-02,   3.55922825e-05,  -3.11710168e-02,\n",
       "          3.23161113e-02]])"
      ]
     },
     "execution_count": 124,
     "metadata": {},
     "output_type": "execute_result"
    }
   ],
   "source": [
    "Wxh"
   ]
  },
  {
   "cell_type": "code",
   "execution_count": 125,
   "metadata": {},
   "outputs": [
    {
     "data": {
      "text/plain": [
       "array([[-0.00079653, -0.00196604, -0.01944714],\n",
       "       [-0.00086006,  0.00289614, -0.0056044 ],\n",
       "       [-0.01720294,  0.00805431, -0.00951426]])"
      ]
     },
     "execution_count": 125,
     "metadata": {},
     "output_type": "execute_result"
    }
   ],
   "source": [
    "Whh"
   ]
  },
  {
   "cell_type": "code",
   "execution_count": 126,
   "metadata": {},
   "outputs": [
    {
     "data": {
      "text/plain": [
       "array([[-0.012362  , -0.00467771, -0.00561026],\n",
       "       [ 0.00035526, -0.00330591, -0.0058389 ],\n",
       "       [-0.01553049, -0.01051185, -0.00296599],\n",
       "       [-0.00112019, -0.01283274, -0.01498699]])"
      ]
     },
     "execution_count": 126,
     "metadata": {},
     "output_type": "execute_result"
    }
   ],
   "source": [
    "Why"
   ]
  },
  {
   "cell_type": "code",
   "execution_count": 127,
   "metadata": {},
   "outputs": [],
   "source": [
    "xs, hs, ys, ps = {}, {}, {}, {}\n",
    "hprev = np.zeros((hidden_size,1))\n",
    "hs[-1] = np.copy(hprev)\n",
    "loss = 0"
   ]
  },
  {
   "cell_type": "code",
   "execution_count": 128,
   "metadata": {},
   "outputs": [
    {
     "data": {
      "text/plain": [
       "array([[ 0.],\n",
       "       [ 0.],\n",
       "       [ 1.],\n",
       "       [ 0.]])"
      ]
     },
     "execution_count": 128,
     "metadata": {},
     "output_type": "execute_result"
    }
   ],
   "source": [
    "xs[0] = np.zeros((vocab_size, 1))\n",
    "xs[0][inputs[0]] = 1\n",
    "xs[0]"
   ]
  },
  {
   "cell_type": "code",
   "execution_count": 129,
   "metadata": {},
   "outputs": [
    {
     "data": {
      "text/plain": [
       "array([[-0.00454387],\n",
       "       [-0.00777553],\n",
       "       [-0.03116093]])"
      ]
     },
     "execution_count": 129,
     "metadata": {},
     "output_type": "execute_result"
    }
   ],
   "source": [
    "hs[0] = np.tanh(np.dot(Wxh, xs[0]) + np.dot(Whh, hs[0-1]) + bh)\n",
    "hs[0]"
   ]
  },
  {
   "cell_type": "code",
   "execution_count": 130,
   "metadata": {},
   "outputs": [
    {
     "data": {
      "text/plain": [
       "array([[ 0.00026736],\n",
       "       [ 0.00020604],\n",
       "       [ 0.00024473],\n",
       "       [ 0.00057188]])"
      ]
     },
     "execution_count": 130,
     "metadata": {},
     "output_type": "execute_result"
    }
   ],
   "source": [
    "ys[0] = np.dot(Why, hs[0]) + by\n",
    "ys[0]"
   ]
  },
  {
   "cell_type": "code",
   "execution_count": 131,
   "metadata": {},
   "outputs": [
    {
     "data": {
      "text/plain": [
       "array([[ 0.24998621],\n",
       "       [ 0.24997088],\n",
       "       [ 0.24998055],\n",
       "       [ 0.25006235]])"
      ]
     },
     "execution_count": 131,
     "metadata": {},
     "output_type": "execute_result"
    }
   ],
   "source": [
    "ps[0] = np.exp(ys[0]) / np.sum(np.exp(ys[0]))\n",
    "ps[0]"
   ]
  },
  {
   "cell_type": "code",
   "execution_count": 132,
   "metadata": {},
   "outputs": [
    {
     "name": "stdout",
     "output_type": "stream",
     "text": [
      "0.25006234967\n",
      "1.38604499354\n"
     ]
    }
   ],
   "source": [
    "print(ps[0][targets[0], 0])\n",
    "loss += -np.log(ps[0][targets[0], 0])\n",
    "print(loss)"
   ]
  },
  {
   "cell_type": "code",
   "execution_count": 133,
   "metadata": {},
   "outputs": [],
   "source": [
    "dWxh, dWhh, dWhy = np.zeros_like(Wxh), np.zeros_like(Whh), np.zeros_like(Why)\n",
    "dbh, dby = np.zeros_like(bh), np.zeros_like(by)\n",
    "dhnext = np.zeros_like(hs[0])"
   ]
  },
  {
   "cell_type": "code",
   "execution_count": 134,
   "metadata": {},
   "outputs": [
    {
     "data": {
      "text/plain": [
       "array([[ 0.24998621],\n",
       "       [ 0.24997088],\n",
       "       [ 0.24998055],\n",
       "       [-0.74993765]])"
      ]
     },
     "execution_count": 134,
     "metadata": {},
     "output_type": "execute_result"
    }
   ],
   "source": [
    "dy = np.copy(ps[0])\n",
    "dy[targets[0]] -= 1\n",
    "dy"
   ]
  },
  {
   "cell_type": "code",
   "execution_count": 135,
   "metadata": {},
   "outputs": [
    {
     "data": {
      "text/plain": [
       "array([[-0.00113591, -0.00194378, -0.0077898 ],\n",
       "       [-0.00113584, -0.00194366, -0.00778932],\n",
       "       [-0.00113588, -0.00194373, -0.00778963],\n",
       "       [ 0.00340762,  0.00583116,  0.02336875]])"
      ]
     },
     "execution_count": 135,
     "metadata": {},
     "output_type": "execute_result"
    }
   ],
   "source": [
    "dWhy += np.dot(dy, hs[0].T)\n",
    "dWhy"
   ]
  },
  {
   "cell_type": "code",
   "execution_count": 136,
   "metadata": {},
   "outputs": [
    {
     "data": {
      "text/plain": [
       "array([[ 0.24998621],\n",
       "       [ 0.24997088],\n",
       "       [ 0.24998055],\n",
       "       [-0.74993765]])"
      ]
     },
     "execution_count": 136,
     "metadata": {},
     "output_type": "execute_result"
    }
   ],
   "source": [
    "dby += dy\n",
    "dby"
   ]
  },
  {
   "cell_type": "code",
   "execution_count": 137,
   "metadata": {},
   "outputs": [
    {
     "data": {
      "text/plain": [
       "array([[-0.00604377],\n",
       "       [ 0.00500025],\n",
       "       [ 0.00763583]])"
      ]
     },
     "execution_count": 137,
     "metadata": {},
     "output_type": "execute_result"
    }
   ],
   "source": [
    "dh = np.dot(Why.T, dy)\n",
    "dh"
   ]
  },
  {
   "cell_type": "code",
   "execution_count": 138,
   "metadata": {},
   "outputs": [
    {
     "data": {
      "text/plain": [
       "array([[-0.00454387],\n",
       "       [-0.00777553],\n",
       "       [-0.03116093]])"
      ]
     },
     "execution_count": 138,
     "metadata": {},
     "output_type": "execute_result"
    }
   ],
   "source": [
    "hs[0]"
   ]
  },
  {
   "cell_type": "code",
   "execution_count": 139,
   "metadata": {},
   "outputs": [
    {
     "data": {
      "text/plain": [
       "array([[ 0.99997935],\n",
       "       [ 0.99993954],\n",
       "       [ 0.999029  ]])"
      ]
     },
     "execution_count": 139,
     "metadata": {},
     "output_type": "execute_result"
    }
   ],
   "source": [
    "1 - hs[0] * hs[0]"
   ]
  },
  {
   "cell_type": "code",
   "execution_count": 158,
   "metadata": {},
   "outputs": [
    {
     "name": "stdout",
     "output_type": "stream",
     "text": [
      "[[-0.00604365]\n",
      " [ 0.00499995]\n",
      " [ 0.00762842]]\n",
      "[[-0.0120873 ]\n",
      " [ 0.0099999 ]\n",
      " [ 0.01525683]]\n",
      "[[ -1.30717501e-04]\n",
      " [  8.78041806e-05]\n",
      " [  1.69311833e-05]]\n"
     ]
    }
   ],
   "source": [
    "dhraw = (1 - hs[0] * hs[0]) * dh\n",
    "print(dhraw)\n",
    "dbh += dhraw\n",
    "print(dbh)\n",
    "dhnext = np.dot(Whh.T, dhraw)\n",
    "print(dhnext)"
   ]
  },
  {
   "cell_type": "code",
   "execution_count": 153,
   "metadata": {},
   "outputs": [
    {
     "name": "stdout",
     "output_type": "stream",
     "text": [
      "[[ 0.          0.         -0.07856743  0.        ]\n",
      " [ 0.          0.          0.06499933  0.        ]\n",
      " [ 0.          0.          0.0991694   0.        ]]\n",
      "[[ 0.  0.  0.]\n",
      " [ 0.  0.  0.]\n",
      " [ 0.  0.  0.]]\n"
     ]
    }
   ],
   "source": [
    "dWxh += np.dot(dhraw, xs[0].T)\n",
    "print(dWxh)\n",
    "dWhh += np.dot(dhraw, hs[0-1].T)\n",
    "print(dWhh)"
   ]
  },
  {
   "cell_type": "code",
   "execution_count": null,
   "metadata": {},
   "outputs": [],
   "source": []
  }
 ],
 "metadata": {
  "kernelspec": {
   "display_name": "Python [conda root]",
   "language": "python",
   "name": "conda-root-py"
  },
  "language_info": {
   "codemirror_mode": {
    "name": "ipython",
    "version": 3
   },
   "file_extension": ".py",
   "mimetype": "text/x-python",
   "name": "python",
   "nbconvert_exporter": "python",
   "pygments_lexer": "ipython3",
   "version": "3.5.4"
  }
 },
 "nbformat": 4,
 "nbformat_minor": 2
}
