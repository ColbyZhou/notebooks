{
 "cells": [
  {
   "cell_type": "markdown",
   "metadata": {},
   "source": [
    "# Vanilla RNN (A simple RNN using standard backprop algorithm)"
   ]
  },
  {
   "cell_type": "code",
   "execution_count": 1,
   "metadata": {},
   "outputs": [],
   "source": [
    "import numpy as np"
   ]
  },
  {
   "cell_type": "markdown",
   "metadata": {},
   "source": [
    "hyperparameters"
   ]
  },
  {
   "cell_type": "code",
   "execution_count": 2,
   "metadata": {},
   "outputs": [],
   "source": [
    "hidden_size = 3\n",
    "vocab_size = 4\n",
    "inputs = [2]\n",
    "targets = [3]"
   ]
  },
  {
   "cell_type": "markdown",
   "metadata": {},
   "source": [
    "model parameters initialization"
   ]
  },
  {
   "cell_type": "code",
   "execution_count": 3,
   "metadata": {},
   "outputs": [],
   "source": [
    "Wxh = np.random.randn(hidden_size, vocab_size)*0.01 # input to hidden\n",
    "Whh = np.random.randn(hidden_size, hidden_size)*0.01 # hidden to hidden\n",
    "Whf = np.random.randn(vocab_size, hidden_size)*0.01 # hidden to output\n",
    "bh = np.zeros((hidden_size, 1)) # hidden bias\n",
    "bf = np.zeros((vocab_size, 1)) # output bias"
   ]
  },
  {
   "cell_type": "markdown",
   "metadata": {},
   "source": [
    "$h(t)=tanh(Wh(t-1) + UX + b_h)$\n",
    "\n",
    "$f(t) = Vh(t) + b_f$\n",
    "\n",
    "$p(t) = softmax(f(t))$\n",
    "\n",
    "代码中,\n",
    "\n",
    "Whh ==> $W$\n",
    "\n",
    "Wxh ==> $U$\n",
    "\n",
    "Whf ==> $V$\n",
    "\n",
    "$\\partial$\n",
    "\n",
    "$\\oplus$\n",
    "\n",
    "$\\ominus$\n",
    "\n",
    "$\\otimes$\n",
    "\n",
    "$\\div$\n",
    "\n",
    "$\\odot$\n",
    "\n",
    "$\\times$\n",
    "\n",
    "$\\cdot$\n",
    "\n",
    "$\\sum_\\limits{{j}}^{K}$  $\\sum_\\limits{{i}}^{H}$   $\\sum_\\limits{{n}}^{H}$\n",
    "\n",
    "$\\overline{a+b}$   $\\underline{c+d }$\n",
    "\n",
    "$\\frac{a+b}{c+d}$"
   ]
  },
  {
   "cell_type": "code",
   "execution_count": 4,
   "metadata": {},
   "outputs": [
    {
     "data": {
      "text/plain": [
       "array([[ 0.0059085 ,  0.01454518,  0.00969705, -0.01612404],\n",
       "       [-0.00246016, -0.00938644,  0.00374774,  0.00026962],\n",
       "       [ 0.00758744, -0.01931721,  0.01119818,  0.01996161]])"
      ]
     },
     "execution_count": 4,
     "metadata": {},
     "output_type": "execute_result"
    }
   ],
   "source": [
    "Wxh"
   ]
  },
  {
   "cell_type": "code",
   "execution_count": 5,
   "metadata": {},
   "outputs": [
    {
     "data": {
      "text/plain": [
       "array([[ 0.00011224,  0.00507858, -0.0011623 ],\n",
       "       [ 0.0100956 , -0.00462209, -0.01085725],\n",
       "       [ 0.00723287,  0.00323559, -0.01131211]])"
      ]
     },
     "execution_count": 5,
     "metadata": {},
     "output_type": "execute_result"
    }
   ],
   "source": [
    "Whh"
   ]
  },
  {
   "cell_type": "code",
   "execution_count": 6,
   "metadata": {},
   "outputs": [
    {
     "data": {
      "text/plain": [
       "array([[ 0.01421196,  0.00707065, -0.00224458],\n",
       "       [-0.00169425,  0.009578  , -0.00485544],\n",
       "       [ 0.00252839, -0.0034816 , -0.00401216],\n",
       "       [ 0.01535335, -0.00223433, -0.01630785]])"
      ]
     },
     "execution_count": 6,
     "metadata": {},
     "output_type": "execute_result"
    }
   ],
   "source": [
    "Whf"
   ]
  },
  {
   "cell_type": "code",
   "execution_count": 7,
   "metadata": {},
   "outputs": [],
   "source": [
    "xs, hs, fs, ps = {}, {}, {}, {}\n",
    "hprev = np.zeros((hidden_size,1))\n",
    "hs[-1] = np.copy(hprev)\n",
    "loss = 0"
   ]
  },
  {
   "cell_type": "code",
   "execution_count": 8,
   "metadata": {},
   "outputs": [
    {
     "data": {
      "text/plain": [
       "array([[ 0.],\n",
       "       [ 0.],\n",
       "       [ 1.],\n",
       "       [ 0.]])"
      ]
     },
     "execution_count": 8,
     "metadata": {},
     "output_type": "execute_result"
    }
   ],
   "source": [
    "xs[0] = np.zeros((vocab_size, 1))\n",
    "xs[0][inputs[0]] = 1\n",
    "xs[0]"
   ]
  },
  {
   "cell_type": "code",
   "execution_count": 9,
   "metadata": {},
   "outputs": [
    {
     "data": {
      "text/plain": [
       "array([[ 0.00969675],\n",
       "       [ 0.00374772],\n",
       "       [ 0.01119771]])"
      ]
     },
     "execution_count": 9,
     "metadata": {},
     "output_type": "execute_result"
    }
   ],
   "source": [
    "hs[0] = np.tanh(np.dot(Wxh, xs[0]) + np.dot(Whh, hs[0-1]) + bh)\n",
    "hs[0]"
   ]
  },
  {
   "cell_type": "code",
   "execution_count": 10,
   "metadata": {},
   "outputs": [
    {
     "data": {
      "text/plain": [
       "array([[  1.39174478e-04],\n",
       "       [ -3.49028567e-05],\n",
       "       [ -3.34578758e-05],\n",
       "       [ -4.21064945e-05]])"
      ]
     },
     "execution_count": 10,
     "metadata": {},
     "output_type": "execute_result"
    }
   ],
   "source": [
    "fs[0] = np.dot(Whf, hs[0]) + bf\n",
    "fs[0]"
   ]
  },
  {
   "cell_type": "code",
   "execution_count": 11,
   "metadata": {},
   "outputs": [
    {
     "data": {
      "text/plain": [
       "array([[ 0.250033  ],\n",
       "       [ 0.24998948],\n",
       "       [ 0.24998984],\n",
       "       [ 0.24998768]])"
      ]
     },
     "execution_count": 11,
     "metadata": {},
     "output_type": "execute_result"
    }
   ],
   "source": [
    "ps[0] = np.exp(fs[0]) / np.sum(np.exp(fs[0]))\n",
    "ps[0]"
   ]
  },
  {
   "cell_type": "code",
   "execution_count": 12,
   "metadata": {},
   "outputs": [
    {
     "name": "stdout",
     "output_type": "stream",
     "text": [
      "0.249987678749\n",
      "1.38634364734\n"
     ]
    }
   ],
   "source": [
    "print(ps[0][targets[0], 0])\n",
    "loss += -np.log(ps[0][targets[0], 0])\n",
    "print(loss)"
   ]
  },
  {
   "cell_type": "code",
   "execution_count": 13,
   "metadata": {},
   "outputs": [],
   "source": [
    "dWxh, dWhh, dWhf = np.zeros_like(Wxh), np.zeros_like(Whh), np.zeros_like(Whf)\n",
    "dbh, dbf = np.zeros_like(bh), np.zeros_like(bf)\n",
    "dhnext = np.zeros_like(hs[0])"
   ]
  },
  {
   "cell_type": "code",
   "execution_count": 14,
   "metadata": {},
   "outputs": [
    {
     "data": {
      "text/plain": [
       "array([[ 0.250033  ],\n",
       "       [ 0.24998948],\n",
       "       [ 0.24998984],\n",
       "       [-0.75001232]])"
      ]
     },
     "execution_count": 14,
     "metadata": {},
     "output_type": "execute_result"
    }
   ],
   "source": [
    "df = np.copy(ps[0])\n",
    "df[targets[0]] -= 1\n",
    "df"
   ]
  },
  {
   "cell_type": "code",
   "execution_count": 15,
   "metadata": {},
   "outputs": [
    {
     "data": {
      "text/plain": [
       "array([[ 0.00242451,  0.00093705,  0.0027998 ],\n",
       "       [ 0.00242409,  0.00093689,  0.00279931],\n",
       "       [ 0.00242409,  0.00093689,  0.00279931],\n",
       "       [-0.00727268, -0.00281084, -0.00839842]])"
      ]
     },
     "execution_count": 15,
     "metadata": {},
     "output_type": "execute_result"
    }
   ],
   "source": [
    "dWhf += np.dot(df, hs[0].T)\n",
    "dWhf"
   ]
  },
  {
   "cell_type": "code",
   "execution_count": 16,
   "metadata": {},
   "outputs": [
    {
     "data": {
      "text/plain": [
       "array([[ 0.250033  ],\n",
       "       [ 0.24998948],\n",
       "       [ 0.24998984],\n",
       "       [-0.75001232]])"
      ]
     },
     "execution_count": 16,
     "metadata": {},
     "output_type": "execute_result"
    }
   ],
   "source": [
    "dbf += df\n",
    "dbf"
   ]
  },
  {
   "cell_type": "code",
   "execution_count": 17,
   "metadata": {},
   "outputs": [
    {
     "data": {
      "text/plain": [
       "array([[-0.00775322],\n",
       "       [ 0.0049677 ],\n",
       "       [ 0.00945306]])"
      ]
     },
     "execution_count": 17,
     "metadata": {},
     "output_type": "execute_result"
    }
   ],
   "source": [
    "dh = np.dot(Whf.T, df)\n",
    "dh"
   ]
  },
  {
   "cell_type": "code",
   "execution_count": 18,
   "metadata": {},
   "outputs": [
    {
     "data": {
      "text/plain": [
       "array([[ 0.00969675],\n",
       "       [ 0.00374772],\n",
       "       [ 0.01119771]])"
      ]
     },
     "execution_count": 18,
     "metadata": {},
     "output_type": "execute_result"
    }
   ],
   "source": [
    "hs[0]"
   ]
  },
  {
   "cell_type": "code",
   "execution_count": 19,
   "metadata": {},
   "outputs": [
    {
     "data": {
      "text/plain": [
       "array([[ 0.99990597],\n",
       "       [ 0.99998595],\n",
       "       [ 0.99987461]])"
      ]
     },
     "execution_count": 19,
     "metadata": {},
     "output_type": "execute_result"
    }
   ],
   "source": [
    "1 - hs[0] * hs[0]"
   ]
  },
  {
   "cell_type": "code",
   "execution_count": 20,
   "metadata": {},
   "outputs": [
    {
     "name": "stdout",
     "output_type": "stream",
     "text": [
      "[[-0.00775249]\n",
      " [ 0.00496763]\n",
      " [ 0.00945187]]\n",
      "[[-0.00775249]\n",
      " [ 0.00496763]\n",
      " [ 0.00945187]]\n",
      "[[  1.17645275e-04]\n",
      " [ -3.17500938e-05]\n",
      " [ -1.51844736e-04]]\n"
     ]
    }
   ],
   "source": [
    "dhraw = (1 - hs[0] * hs[0]) * dh\n",
    "print(dhraw)\n",
    "dbh += dhraw\n",
    "print(dbh)\n",
    "dhnext = np.dot(Whh.T, dhraw)\n",
    "print(dhnext)"
   ]
  },
  {
   "cell_type": "code",
   "execution_count": 21,
   "metadata": {},
   "outputs": [
    {
     "name": "stdout",
     "output_type": "stream",
     "text": [
      "[[ 0.          0.         -0.00775249  0.        ]\n",
      " [ 0.          0.          0.00496763  0.        ]\n",
      " [ 0.          0.          0.00945187  0.        ]]\n",
      "[[ 0.  0.  0.]\n",
      " [ 0.  0.  0.]\n",
      " [ 0.  0.  0.]]\n"
     ]
    }
   ],
   "source": [
    "dWxh += np.dot(dhraw, xs[0].T)\n",
    "print(dWxh)\n",
    "dWhh += np.dot(dhraw, hs[0-1].T)\n",
    "print(dWhh)"
   ]
  },
  {
   "cell_type": "code",
   "execution_count": null,
   "metadata": {},
   "outputs": [],
   "source": []
  },
  {
   "cell_type": "code",
   "execution_count": null,
   "metadata": {},
   "outputs": [],
   "source": []
  }
 ],
 "metadata": {
  "kernelspec": {
   "display_name": "Python 2",
   "language": "python",
   "name": "python2"
  },
  "language_info": {
   "codemirror_mode": {
    "name": "ipython",
    "version": 2
   },
   "file_extension": ".py",
   "mimetype": "text/x-python",
   "name": "python",
   "nbconvert_exporter": "python",
   "pygments_lexer": "ipython2",
   "version": "2.7.13"
  }
 },
 "nbformat": 4,
 "nbformat_minor": 2
}
